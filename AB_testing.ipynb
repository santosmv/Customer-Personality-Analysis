{
 "cells": [
  {
   "cell_type": "code",
   "execution_count": 265,
   "metadata": {},
   "outputs": [],
   "source": [
    "import numpy as np\n",
    "import seaborn as sn\n",
    "import matplotlib.pyplot as plt\n",
    "import pandas as pd\n",
    "from sklearn.pipeline import Pipeline\n",
    "import scipy.stats as st\n",
    "import statsmodels.stats.api as sm\n",
    "from statsmodels.stats.proportion import proportions_ztest, proportion_confint\n",
    "from scipy.stats import ttest_1samp\n",
    "\n",
    "pd.set_option('display.max_columns', 500)\n",
    "plt.rc('text', usetex=True)\n",
    "plt.rc('font', family='serif')"
   ]
  },
  {
   "cell_type": "markdown",
   "metadata": {},
   "source": [
    "After clustering the customers in ``clustering_analysis.ipynb``, we explore this segmentation with the following null hypothesis:\n",
    "\n",
    "$H_0$: in the 2 clustering scenario, the cluster with customers with higher average income will deal a higher number of times with the company in long term\n",
    "\n",
    "An alternative hypothesis $H_1$ is a negative of $H_0$, in other words this customer group is not dealing with the company more than any group under some statistical significance applied in our test."
   ]
  },
  {
   "cell_type": "code",
   "execution_count": 21,
   "metadata": {},
   "outputs": [
    {
     "data": {
      "text/html": [
       "<div>\n",
       "<style scoped>\n",
       "    .dataframe tbody tr th:only-of-type {\n",
       "        vertical-align: middle;\n",
       "    }\n",
       "\n",
       "    .dataframe tbody tr th {\n",
       "        vertical-align: top;\n",
       "    }\n",
       "\n",
       "    .dataframe thead th {\n",
       "        text-align: right;\n",
       "    }\n",
       "</style>\n",
       "<table border=\"1\" class=\"dataframe\">\n",
       "  <thead>\n",
       "    <tr style=\"text-align: right;\">\n",
       "      <th></th>\n",
       "      <th>Unnamed: 0</th>\n",
       "      <th>ID</th>\n",
       "      <th>Year_Birth</th>\n",
       "      <th>Education</th>\n",
       "      <th>Marital_Status</th>\n",
       "      <th>Income</th>\n",
       "      <th>Kidhome</th>\n",
       "      <th>Teenhome</th>\n",
       "      <th>Dt_Customer</th>\n",
       "      <th>Recency</th>\n",
       "      <th>...</th>\n",
       "      <th>NumStorePurchases</th>\n",
       "      <th>NumWebVisitsMonth</th>\n",
       "      <th>AcceptedCmp3</th>\n",
       "      <th>AcceptedCmp4</th>\n",
       "      <th>AcceptedCmp5</th>\n",
       "      <th>AcceptedCmp1</th>\n",
       "      <th>AcceptedCmp2</th>\n",
       "      <th>Complain</th>\n",
       "      <th>Response</th>\n",
       "      <th>Accepted</th>\n",
       "    </tr>\n",
       "  </thead>\n",
       "  <tbody>\n",
       "    <tr>\n",
       "      <th>0</th>\n",
       "      <td>0</td>\n",
       "      <td>5524</td>\n",
       "      <td>1957</td>\n",
       "      <td>Graduation</td>\n",
       "      <td>Single</td>\n",
       "      <td>58138.0</td>\n",
       "      <td>0</td>\n",
       "      <td>0</td>\n",
       "      <td>2012-04-09</td>\n",
       "      <td>58</td>\n",
       "      <td>...</td>\n",
       "      <td>4</td>\n",
       "      <td>7</td>\n",
       "      <td>0</td>\n",
       "      <td>0</td>\n",
       "      <td>0</td>\n",
       "      <td>0</td>\n",
       "      <td>0</td>\n",
       "      <td>0</td>\n",
       "      <td>1</td>\n",
       "      <td>0</td>\n",
       "    </tr>\n",
       "    <tr>\n",
       "      <th>1</th>\n",
       "      <td>1</td>\n",
       "      <td>2174</td>\n",
       "      <td>1954</td>\n",
       "      <td>Graduation</td>\n",
       "      <td>Single</td>\n",
       "      <td>46344.0</td>\n",
       "      <td>1</td>\n",
       "      <td>1</td>\n",
       "      <td>2014-08-03</td>\n",
       "      <td>38</td>\n",
       "      <td>...</td>\n",
       "      <td>2</td>\n",
       "      <td>5</td>\n",
       "      <td>0</td>\n",
       "      <td>0</td>\n",
       "      <td>0</td>\n",
       "      <td>0</td>\n",
       "      <td>0</td>\n",
       "      <td>0</td>\n",
       "      <td>0</td>\n",
       "      <td>0</td>\n",
       "    </tr>\n",
       "    <tr>\n",
       "      <th>2</th>\n",
       "      <td>2</td>\n",
       "      <td>4141</td>\n",
       "      <td>1965</td>\n",
       "      <td>Graduation</td>\n",
       "      <td>Together</td>\n",
       "      <td>71613.0</td>\n",
       "      <td>0</td>\n",
       "      <td>0</td>\n",
       "      <td>2013-08-21</td>\n",
       "      <td>26</td>\n",
       "      <td>...</td>\n",
       "      <td>10</td>\n",
       "      <td>4</td>\n",
       "      <td>0</td>\n",
       "      <td>0</td>\n",
       "      <td>0</td>\n",
       "      <td>0</td>\n",
       "      <td>0</td>\n",
       "      <td>0</td>\n",
       "      <td>0</td>\n",
       "      <td>0</td>\n",
       "    </tr>\n",
       "    <tr>\n",
       "      <th>3</th>\n",
       "      <td>3</td>\n",
       "      <td>6182</td>\n",
       "      <td>1984</td>\n",
       "      <td>Graduation</td>\n",
       "      <td>Together</td>\n",
       "      <td>26646.0</td>\n",
       "      <td>1</td>\n",
       "      <td>0</td>\n",
       "      <td>2014-10-02</td>\n",
       "      <td>26</td>\n",
       "      <td>...</td>\n",
       "      <td>4</td>\n",
       "      <td>6</td>\n",
       "      <td>0</td>\n",
       "      <td>0</td>\n",
       "      <td>0</td>\n",
       "      <td>0</td>\n",
       "      <td>0</td>\n",
       "      <td>0</td>\n",
       "      <td>0</td>\n",
       "      <td>0</td>\n",
       "    </tr>\n",
       "    <tr>\n",
       "      <th>4</th>\n",
       "      <td>4</td>\n",
       "      <td>5324</td>\n",
       "      <td>1981</td>\n",
       "      <td>PhD</td>\n",
       "      <td>Married</td>\n",
       "      <td>58293.0</td>\n",
       "      <td>1</td>\n",
       "      <td>0</td>\n",
       "      <td>2014-01-19</td>\n",
       "      <td>94</td>\n",
       "      <td>...</td>\n",
       "      <td>6</td>\n",
       "      <td>5</td>\n",
       "      <td>0</td>\n",
       "      <td>0</td>\n",
       "      <td>0</td>\n",
       "      <td>0</td>\n",
       "      <td>0</td>\n",
       "      <td>0</td>\n",
       "      <td>0</td>\n",
       "      <td>0</td>\n",
       "    </tr>\n",
       "  </tbody>\n",
       "</table>\n",
       "<p>5 rows × 29 columns</p>\n",
       "</div>"
      ],
      "text/plain": [
       "   Unnamed: 0    ID  Year_Birth   Education Marital_Status   Income  Kidhome  \\\n",
       "0           0  5524        1957  Graduation         Single  58138.0        0   \n",
       "1           1  2174        1954  Graduation         Single  46344.0        1   \n",
       "2           2  4141        1965  Graduation       Together  71613.0        0   \n",
       "3           3  6182        1984  Graduation       Together  26646.0        1   \n",
       "4           4  5324        1981         PhD        Married  58293.0        1   \n",
       "\n",
       "   Teenhome Dt_Customer  Recency  ...  NumStorePurchases  NumWebVisitsMonth  \\\n",
       "0         0  2012-04-09       58  ...                  4                  7   \n",
       "1         1  2014-08-03       38  ...                  2                  5   \n",
       "2         0  2013-08-21       26  ...                 10                  4   \n",
       "3         0  2014-10-02       26  ...                  4                  6   \n",
       "4         0  2014-01-19       94  ...                  6                  5   \n",
       "\n",
       "   AcceptedCmp3  AcceptedCmp4  AcceptedCmp5  AcceptedCmp1  AcceptedCmp2  \\\n",
       "0             0             0             0             0             0   \n",
       "1             0             0             0             0             0   \n",
       "2             0             0             0             0             0   \n",
       "3             0             0             0             0             0   \n",
       "4             0             0             0             0             0   \n",
       "\n",
       "   Complain  Response  Accepted  \n",
       "0         0         1         0  \n",
       "1         0         0         0  \n",
       "2         0         0         0  \n",
       "3         0         0         0  \n",
       "4         0         0         0  \n",
       "\n",
       "[5 rows x 29 columns]"
      ]
     },
     "execution_count": 21,
     "metadata": {},
     "output_type": "execute_result"
    }
   ],
   "source": [
    "data_cleaned = pd.read_csv('dataset/cleaned_marketing_campaign.csv', sep=',')\n",
    "data_cleaned.head()"
   ]
  },
  {
   "cell_type": "code",
   "execution_count": 26,
   "metadata": {},
   "outputs": [
    {
     "data": {
      "text/plain": [
       "0    1747\n",
       "1     322\n",
       "2      81\n",
       "3      44\n",
       "4      11\n",
       "Name: Accepted, dtype: int64"
      ]
     },
     "execution_count": 26,
     "metadata": {},
     "output_type": "execute_result"
    }
   ],
   "source": [
    "data_cleaned['Accepted'].value_counts()"
   ]
  },
  {
   "cell_type": "code",
   "execution_count": 32,
   "metadata": {},
   "outputs": [],
   "source": [
    "data_cleaned['Accepted'] = (data_cleaned['Accepted'] != 0).astype(int)"
   ]
  },
  {
   "cell_type": "code",
   "execution_count": 34,
   "metadata": {},
   "outputs": [
    {
     "data": {
      "text/plain": [
       "0    1747\n",
       "1     458\n",
       "Name: Accepted, dtype: int64"
      ]
     },
     "execution_count": 34,
     "metadata": {},
     "output_type": "execute_result"
    }
   ],
   "source": [
    "data_cleaned['Accepted'].value_counts()"
   ]
  },
  {
   "cell_type": "code",
   "execution_count": 69,
   "metadata": {},
   "outputs": [
    {
     "name": "stdout",
     "output_type": "stream",
     "text": [
      "Confidence Interval for the whole dataset: (0.18759767337763758, 0.22782182775614926)\n"
     ]
    }
   ],
   "source": [
    "m,n = data_cleaned.shape\n",
    "SE = st.sem(data_cleaned['Accepted'])\n",
    "SE = np.std(data_cleaned['Accepted'])/np.sqrt(m)\n",
    "mean = np.mean(data_cleaned['Accepted'])\n",
    "\n",
    "t_value = st.t.ppf(q=0.99, df=m-1)\n",
    "\n",
    "CI = mean - t_value * SE, mean + t_value * SE\n",
    "print('Confidence Interval for the whole dataset:', CI)"
   ]
  },
  {
   "cell_type": "code",
   "execution_count": 68,
   "metadata": {},
   "outputs": [
    {
     "data": {
      "text/plain": [
       "array([0, 1])"
      ]
     },
     "execution_count": 68,
     "metadata": {},
     "output_type": "execute_result"
    }
   ],
   "source": [
    "y_pred = np.load('dataset/prediction_2_clusters.npy')\n",
    "np.unique(y_pred)"
   ]
  },
  {
   "cell_type": "code",
   "execution_count": 107,
   "metadata": {},
   "outputs": [
    {
     "data": {
      "image/png": "[encoded data removed]",
      "text/plain": [
       "<Figure size 640x480 with 1 Axes>"
      ]
     },
     "metadata": {},
     "output_type": "display_data"
    }
   ],
   "source": [
    "sn.histplot(data=data_cleaned, hue=y_pred, x='Income', alpha=0.6)\n",
    "plt.legend(labels=[1,0])\n",
    "plt.show()"
   ]
  },
  {
   "cell_type": "code",
   "execution_count": 116,
   "metadata": {},
   "outputs": [
    {
     "name": "stdout",
     "output_type": "stream",
     "text": [
      "0    629\n",
      "1    324\n",
      "Name: Accepted, dtype: int64\n",
      "0    1118\n",
      "1     134\n",
      "Name: Accepted, dtype: int64\n",
      "Acceptance rate for cluster 0: 51.51%\n",
      "Acceptance rate for cluster 1: 11.99%\n"
     ]
    }
   ],
   "source": [
    "accep_0 = data_cleaned.iloc[y_pred == 0]['Accepted'] #higher income\n",
    "accep_1 = data_cleaned.iloc[y_pred == 1]['Accepted'] #lower income\n",
    "\n",
    "print(accep_0.value_counts())\n",
    "print(accep_1.value_counts())\n",
    "\n",
    "print('Acceptance rate for cluster 0: %.2f%%'%(100 * (accep_0 == 1).astype(int).sum()/(accep_0 == 0).astype(int).sum()))\n",
    "print('Acceptance rate for cluster 1: %.2f%%'%(100 * (accep_1 == 1).astype(int).sum()/(accep_1 == 0).astype(int).sum()))"
   ]
  },
  {
   "cell_type": "code",
   "execution_count": 121,
   "metadata": {},
   "outputs": [
    {
     "name": "stdout",
     "output_type": "stream",
     "text": [
      "Confidence Interval for the whole dataset: (0.30423715940279245, 0.37572086787947406)\n",
      "Mean value of acceptances of cluster 1: 0.10702875399361023\n"
     ]
    }
   ],
   "source": [
    "m,n = data_cleaned.shape\n",
    "\n",
    "mean_0 = np.mean(accep_0)\n",
    "mean_1 = np.mean(accep_1)\n",
    "\n",
    "SE_0 = st.sem(accep_0)\n",
    "\n",
    "t_value = st.t.ppf(q=0.99, df=m-1)\n",
    "\n",
    "CI_0 = mean_0 - t_value * SE_0, mean_0 + t_value * SE_0\n",
    "print('Confidence Interval for the whole dataset:', CI_0)\n",
    "print('Mean value of acceptances of cluster 1:', mean_1)"
   ]
  },
  {
   "cell_type": "markdown",
   "metadata": {},
   "source": [
    "We then reject the null hypothesis $H_0$ with 99% C.L., since the mean of the cluster 1 does not fall into the CI from cluster 0."
   ]
  },
  {
   "cell_type": "markdown",
   "metadata": {},
   "source": [
    "Let us check with other approach using the p-value. We need to establish some parameters to accomplish the A/B test procedure:\n",
    "\n",
    "- **Power of the test** ($1 - \\beta$): This is the probability of successfully predict that both customer cluster differs in Accepted Rate defined in the dataset, when they actually are different. We set it as 99%.\n",
    "- **Significance** ($\\alpha$): The probability of performing a hypothesis test with result out of the defined confidence level. We set it as 1%.\n",
    "- **Effect size**: Can be calculated using the above metrics, and provides how both clusters would differ given some expected (or desired) change in the rate."
   ]
  },
  {
   "cell_type": "code",
   "execution_count": 257,
   "metadata": {},
   "outputs": [
    {
     "data": {
      "text/plain": [
       "-0.893825491622076"
      ]
     },
     "execution_count": 257,
     "metadata": {},
     "output_type": "execute_result"
    }
   ],
   "source": [
    "effect_size = sm.proportion_effectsize(0.1199, 0.5151)\n",
    "power_ = 0.99\n",
    "alpha_ = 0.01\n",
    "\n",
    "effect_size"
   ]
  },
  {
   "cell_type": "code",
   "execution_count": 249,
   "metadata": {},
   "outputs": [
    {
     "data": {
      "text/plain": [
       "61"
      ]
     },
     "execution_count": 249,
     "metadata": {},
     "output_type": "execute_result"
    }
   ],
   "source": [
    "required_n = sm.NormalIndPower().solve_power(\n",
    "    effect_size,\n",
    "    power=power_,\n",
    "    alpha=alpha_,\n",
    "    ratio=1\n",
    "    )\n",
    "required_n = int(np.ceil(required_n))\n",
    "required_n"
   ]
  },
  {
   "cell_type": "code",
   "execution_count": 250,
   "metadata": {},
   "outputs": [],
   "source": [
    "control_sample = data_cleaned.iloc[y_pred == 0].sample(required_n)\n",
    "treatment_sample = data_cleaned.iloc[y_pred == 1].sample(required_n)"
   ]
  },
  {
   "cell_type": "code",
   "execution_count": 251,
   "metadata": {},
   "outputs": [],
   "source": [
    "i_con = control_sample.index\n",
    "i_trea = treatment_sample.index"
   ]
  },
  {
   "cell_type": "code",
   "execution_count": 252,
   "metadata": {},
   "outputs": [],
   "source": [
    "ab_test = pd.concat([control_sample, treatment_sample], axis=0)"
   ]
  },
  {
   "cell_type": "code",
   "execution_count": 253,
   "metadata": {},
   "outputs": [],
   "source": [
    "control_results = ab_test.loc[i_con]['Accepted']\n",
    "treatment_results = ab_test.loc[i_trea]['Accepted']"
   ]
  },
  {
   "cell_type": "code",
   "execution_count": 254,
   "metadata": {},
   "outputs": [],
   "source": [
    "successes = [control_results.sum(), treatment_results.sum()]\n",
    "nobs = [control_results.count(), treatment_results.count()]"
   ]
  },
  {
   "cell_type": "code",
   "execution_count": 261,
   "metadata": {},
   "outputs": [
    {
     "name": "stdout",
     "output_type": "stream",
     "text": [
      "0.05041955573335427\n",
      "(0.09082134999499744, 0.0001453219375038145) (0.36819504344762555, 0.196575989537906)\n"
     ]
    }
   ],
   "source": [
    "z_stat, pvalue = proportions_ztest(successes, nobs=nobs)\n",
    "(lower_control, lower_treat), (upper_control, upper_treat) = proportion_confint(successes, nobs=nobs, alpha=alpha_)\n",
    "\n",
    "print(pvalue)\n",
    "print((lower_control, lower_treat), (upper_control, upper_treat))"
   ]
  },
  {
   "cell_type": "markdown",
   "metadata": {},
   "source": [
    "Now, we will perform the above test 10,000 times but for samples with 100 size, in order to check if p-values generally lies before the threshold impossed by $\\alpha$:"
   ]
  },
  {
   "cell_type": "code",
   "execution_count": 297,
   "metadata": {},
   "outputs": [],
   "source": [
    "p_value_list = []\n",
    "required_n = 100\n",
    "\n",
    "for i in range(10000):\n",
    "    control_sample = data_cleaned.iloc[y_pred == 0].sample(required_n)\n",
    "    treatment_sample = data_cleaned.iloc[y_pred == 1].sample(required_n)\n",
    "\n",
    "    i_con = control_sample.index\n",
    "    i_trea = treatment_sample.index\n",
    "\n",
    "    ab_test = pd.concat([control_sample, treatment_sample], axis=0)\n",
    "\n",
    "    control_results = ab_test.loc[i_con]['Accepted']\n",
    "    treatment_results = ab_test.loc[i_trea]['Accepted']\n",
    "\n",
    "    successes = [control_results.sum(), treatment_results.sum()]\n",
    "    nobs = [control_results.count(), treatment_results.count()]\n",
    "\n",
    "    z_stat, p_value = proportions_ztest(successes, nobs=nobs)\n",
    "    (lower_control, lower_treat), (upper_control, upper_treat) = proportion_confint(successes, nobs=nobs, alpha=alpha_)\n",
    "\n",
    "    p_value_list.append(p_value)"
   ]
  },
  {
   "cell_type": "code",
   "execution_count": 298,
   "metadata": {},
   "outputs": [
    {
     "data": {
      "image/png": "[encoded data removed]",
      "text/plain": [
       "<Figure size 640x480 with 1 Axes>"
      ]
     },
     "metadata": {},
     "output_type": "display_data"
    }
   ],
   "source": [
    "ax = sn.histplot(x=p_value_list, bins=200)\n",
    "ax.set_xlabel(r'p-value')\n",
    "ax.set_xlim(-0.1,0.4)\n",
    "ax.axvline(alpha_, linestyle='--', color='r')\n",
    "ax.set_ylim(0,2000)\n",
    "plt.show()"
   ]
  },
  {
   "cell_type": "code",
   "execution_count": 300,
   "metadata": {},
   "outputs": [
    {
     "name": "stdout",
     "output_type": "stream",
     "text": [
      "Percentage of p-values below the alpha threshold: 94.25%\n"
     ]
    }
   ],
   "source": [
    "print(f'Percentage of p-values below the alpha threshold: {100 * (np.array(p_value_list) < alpha_).sum()/len(p_value_list)}%')"
   ]
  },
  {
   "cell_type": "markdown",
   "metadata": {},
   "source": [
    "It shows that we can exclude the null hypothesis with more confidence, then customers from the cluster 0 tend to be converted with a good level of confidence."
   ]
  }
 ],
 "metadata": {
  "kernelspec": {
   "display_name": "Python 3",
   "language": "python",
   "name": "python3"
  },
  "language_info": {
   "codemirror_mode": {
    "name": "ipython",
    "version": 3
   },
   "file_extension": ".py",
   "mimetype": "text/x-python",
   "name": "python",
   "nbconvert_exporter": "python",
   "pygments_lexer": "ipython3",
   "version": "3.8.5"
  }
 },
 "nbformat": 4,
 "nbformat_minor": 2
}
